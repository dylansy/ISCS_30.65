{
  "nbformat": 4,
  "nbformat_minor": 0,
  "metadata": {
    "colab": {
      "provenance": []
    },
    "kernelspec": {
      "name": "python3",
      "display_name": "Python 3"
    },
    "language_info": {
      "name": "python"
    }
  },
  "cells": [
    {
      "cell_type": "markdown",
      "source": [
        "## CNN Based Autoencoder\n",
        "\n",
        "Source: https://www.geeksforgeeks.org/implement-convolutional-autoencoder-in-pytorch-with-cuda/\n",
        "\n"
      ],
      "metadata": {
        "id": "D-Ef_pGI80Bq"
      }
    },
    {
      "cell_type": "code",
      "source": [
        "from google.colab import drive\n",
        "drive.mount('/content/drive')"
      ],
      "metadata": {
        "colab": {
          "base_uri": "https://localhost:8080/"
        },
        "id": "hRRZX-wZEEw_",
        "outputId": "22885512-d8f8-48bf-d381-88e3df61ebe9"
      },
      "execution_count": null,
      "outputs": [
        {
          "output_type": "stream",
          "name": "stdout",
          "text": [
            "Mounted at /content/drive\n"
          ]
        }
      ]
    },
    {
      "cell_type": "code",
      "source": [
        "import os\n",
        "import torch\n",
        "import torch.nn as nn\n",
        "import torch.optim as optim\n",
        "import torchvision.datasets as datasets\n",
        "import torchvision.transforms as transforms\n",
        "import numpy as np\n",
        "from PIL import Image\n",
        "\n",
        "# Define the autoencoder architecture\n",
        "class Autoencoder(nn.Module):\n",
        "    def __init__(self):\n",
        "        super(Autoencoder, self).__init__()\n",
        "        self.encoder = nn.Sequential(\n",
        "            nn.Conv2d(3, 16, kernel_size=3, stride=1, padding=1),\n",
        "            nn.ReLU(),\n",
        "            nn.MaxPool2d(kernel_size=2, stride=2),\n",
        "            nn.Conv2d(16, 8, kernel_size=3, stride=1, padding=1),\n",
        "            nn.ReLU(),\n",
        "            nn.MaxPool2d(kernel_size=2, stride=2)\n",
        "        )\n",
        "        self.decoder = nn.Sequential(\n",
        "            nn.ConvTranspose2d(8, 16,\n",
        "                               kernel_size=3,\n",
        "                               stride=2,\n",
        "                               padding=1,\n",
        "                               output_padding=1),\n",
        "            nn.ReLU(),\n",
        "            nn.ConvTranspose2d(16, 3,\n",
        "                               kernel_size=3,\n",
        "                               stride=2,\n",
        "                               padding=1,\n",
        "                               output_padding=1),\n",
        "            nn.Sigmoid()\n",
        "        )\n",
        "\n",
        "    def forward(self, x):\n",
        "        x = self.encoder(x)\n",
        "        x = self.decoder(x)\n",
        "        return x\n",
        "\n",
        "# Define PSNR calculation function\n",
        "def calculate_psnr(original, denoised):\n",
        "    mse = np.mean((original - denoised) ** 2)\n",
        "    max_pixel_value = 1.0  # Assuming images are normalized between 0 and 1\n",
        "\n",
        "    psnr = 10 * np.log10((max_pixel_value ** 2) / mse)\n",
        "    return psnr\n",
        "\n",
        "# Define transform\n",
        "transform = transforms.Compose([\n",
        "    transforms.Resize((64, 64)),\n",
        "    transforms.ToTensor(),\n",
        "])\n",
        "\n",
        "# Move the model to GPU\n",
        "device = torch.device('cuda' if torch.cuda.is_available() else 'cpu')\n",
        "\n",
        "# Train an autoencoder for each folder\n",
        "for folder_name in ['25', '50', '75']:\n",
        "    # Load dataset from 'noisy_train' and 'noisy_test' folders\n",
        "    train_dataset = datasets.ImageFolder(root=f'/content/drive/MyDrive/Colab Notebooks/pneumonia/noisy_train/{folder_name}', transform=transform)\n",
        "    test_dataset = datasets.ImageFolder(root=f'/content/drive/MyDrive/Colab Notebooks/pneumonia/noisy_test/{folder_name}', transform=transform)\n",
        "\n",
        "    # Define the dataloader\n",
        "    train_loader = torch.utils.data.DataLoader(dataset=train_dataset, batch_size=128, shuffle=True)\n",
        "    test_loader = torch.utils.data.DataLoader(dataset=test_dataset, batch_size=128)\n",
        "\n",
        "    # Initialize the autoencoder\n",
        "    model = Autoencoder().to(device)\n",
        "\n",
        "    # Define the loss function and optimizer\n",
        "    criterion = nn.MSELoss()\n",
        "    optimizer = optim.Adam(model.parameters(), lr=0.001)\n",
        "\n",
        "    # Train the autoencoder\n",
        "    num_epochs = 50\n",
        "    for epoch in range(num_epochs):\n",
        "        for data in train_loader:\n",
        "            img, _ = data\n",
        "            img = img.to(device)\n",
        "            optimizer.zero_grad()\n",
        "            output = model(img)\n",
        "            loss = criterion(output, img)\n",
        "            loss.backward()\n",
        "            optimizer.step()\n",
        "        if epoch % 5 == 0:\n",
        "            print(f'Folder {folder_name}, Epoch [{epoch+1}/{num_epochs}], Loss: {loss.item():.4f}')\n",
        "\n",
        "    # Evaluate PSNR on the test dataset\n",
        "    psnr_total = 0.0\n",
        "    num_samples = 0\n",
        "\n",
        "    for i, (img, paths) in enumerate(test_loader):\n",
        "        img = img.to(device)\n",
        "        output = model(img)\n",
        "\n",
        "        # Iterate over batch images\n",
        "        for i in range(img.size(0)):\n",
        "            index = num_samples + i\n",
        "            if index < len(test_dataset.samples):  # Check if the index is within the range\n",
        "                original_img_path = os.path.join('/content/drive/MyDrive/Colab Notebooks/pneumonia/test', os.path.basename(test_dataset.samples[index][0]))\n",
        "                original_img = np.array(Image.open(original_img_path).convert('RGB')) / 255.0  # Normalize to [0, 1]\n",
        "                original_img_tensor = torch.tensor(original_img).permute(2, 0, 1).unsqueeze(0).float().to(device)\n",
        "\n",
        "                # Resize the output to match the original image size\n",
        "                resized_output = torch.nn.functional.interpolate(output[i].unsqueeze(0), size=original_img_tensor.shape[-2:], mode='bilinear', align_corners=False)\n",
        "\n",
        "            # Calculate PSNR\n",
        "            psnr = calculate_psnr(original_img_tensor.cpu().numpy(), resized_output.detach().cpu().numpy())\n",
        "            psnr_total += psnr\n",
        "            num_samples += 1\n",
        "\n",
        "    average_psnr = psnr_total / num_samples\n",
        "    print('Average PSNR on test dataset: {:.4f} dB'.format(average_psnr))\n",
        "\n",
        "    # Save the model\n",
        "    torch.save(model.state_dict(), f'conv_autoencoder_{folder_name}.pth')"
      ],
      "metadata": {
        "colab": {
          "base_uri": "https://localhost:8080/"
        },
        "id": "wvEiRFjRLHGe",
        "outputId": "2a44f3fa-5abf-43dd-a122-a7be84814ffd"
      },
      "execution_count": 32,
      "outputs": [
        {
          "output_type": "stream",
          "name": "stdout",
          "text": [
            "Folder 25, Epoch [1/50], Loss: 0.0846\n",
            "Folder 25, Epoch [6/50], Loss: 0.0762\n",
            "Folder 25, Epoch [11/50], Loss: 0.0643\n",
            "Folder 25, Epoch [16/50], Loss: 0.0622\n",
            "Folder 25, Epoch [21/50], Loss: 0.0519\n",
            "Folder 25, Epoch [26/50], Loss: 0.0468\n",
            "Folder 25, Epoch [31/50], Loss: 0.0460\n",
            "Folder 25, Epoch [36/50], Loss: 0.0367\n",
            "Folder 25, Epoch [41/50], Loss: 0.0290\n",
            "Folder 25, Epoch [46/50], Loss: 0.0235\n",
            "Average PSNR on test dataset: 13.2916 dB\n",
            "Folder 50, Epoch [1/50], Loss: 0.0900\n",
            "Folder 50, Epoch [6/50], Loss: 0.0735\n",
            "Folder 50, Epoch [11/50], Loss: 0.0766\n",
            "Folder 50, Epoch [16/50], Loss: 0.0517\n",
            "Folder 50, Epoch [21/50], Loss: 0.0494\n",
            "Folder 50, Epoch [26/50], Loss: 0.0468\n",
            "Folder 50, Epoch [31/50], Loss: 0.0463\n",
            "Folder 50, Epoch [36/50], Loss: 0.0441\n",
            "Folder 50, Epoch [41/50], Loss: 0.0393\n",
            "Folder 50, Epoch [46/50], Loss: 0.0359\n",
            "Average PSNR on test dataset: 11.3808 dB\n",
            "Folder 75, Epoch [1/50], Loss: 0.1227\n",
            "Folder 75, Epoch [6/50], Loss: 0.1130\n",
            "Folder 75, Epoch [11/50], Loss: 0.1002\n",
            "Folder 75, Epoch [16/50], Loss: 0.0725\n",
            "Folder 75, Epoch [21/50], Loss: 0.0563\n",
            "Folder 75, Epoch [26/50], Loss: 0.0467\n",
            "Folder 75, Epoch [31/50], Loss: 0.0338\n",
            "Folder 75, Epoch [36/50], Loss: 0.0349\n",
            "Folder 75, Epoch [41/50], Loss: 0.0329\n",
            "Folder 75, Epoch [46/50], Loss: 0.0300\n",
            "Average PSNR on test dataset: 10.0602 dB\n"
          ]
        }
      ]
    }
  ]
}