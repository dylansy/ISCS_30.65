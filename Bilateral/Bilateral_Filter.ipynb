{
  "cells": [
    {
      "cell_type": "markdown",
      "metadata": {
        "id": "OG819PyoWstH"
      },
      "source": [
        "Run using Google Colab for better experience."
      ]
    },
    {
      "cell_type": "code",
      "execution_count": 1,
      "metadata": {
        "id": "imk4QZrGXf0U"
      },
      "outputs": [],
      "source": [
        "import numpy as np\n",
        "import cv2"
      ]
    },
    {
      "cell_type": "code",
      "execution_count": 2,
      "metadata": {
        "id": "GUkzLzwXXhR-"
      },
      "outputs": [],
      "source": [
        "def calculate_psnr(original, denoised):\n",
        "    mse = np.mean((original - denoised) ** 2)\n",
        "    max_pixel_value = 255.0  # Assuming 8-bit images\n",
        "\n",
        "    psnr = 10 * np.log10((max_pixel_value ** 2) / mse)\n",
        "    return psnr"
      ]
    },
    {
      "cell_type": "code",
      "execution_count": 5,
      "metadata": {
        "colab": {
          "base_uri": "https://localhost:8080/"
        },
        "id": "6GR7kNe0vluv",
        "outputId": "d76b7e05-f8de-4ac7-a180-3900456dc8cf"
      },
      "outputs": [
        {
          "name": "stdout",
          "output_type": "stream",
          "text": [
            "Best PSNR: 29.205961116752043\n",
            "Best Parameters (d, sigma_color, sigma_space): (9, 50, 100)\n"
          ]
        }
      ],
      "source": [
        "# Load the noisy and clear images\n",
        "noisy_img = cv2.imread('noisy.png')\n",
        "clear_img = cv2.imread('clear.png')\n",
        "\n",
        "# Check if the images are loaded successfully\n",
        "if noisy_img is None or clear_img is None:\n",
        "    print('Error: Unable to load image/s.')\n",
        "else:\n",
        "    best_psnr = 0\n",
        "    best_parameters = None\n",
        "\n",
        "    # Iterate over different parameter values\n",
        "    for d in [5, 9, 13]:\n",
        "        for sigma_color in [50, 75, 100]:\n",
        "            for sigma_space in [50, 75, 100]:\n",
        "                # Apply bilateral filter to the noisy image\n",
        "                bilateral_filtered = cv2.bilateralFilter(noisy_img, d, sigma_color, sigma_space)\n",
        "\n",
        "                # Calculate PSNR based on the clear image\n",
        "                psnr = calculate_psnr(clear_img, bilateral_filtered)\n",
        "\n",
        "                # Check if PSNR is better than the current best\n",
        "                if psnr > best_psnr:\n",
        "                    # Change if true, else next\n",
        "                    best_psnr = psnr\n",
        "                    best_parameters = (d, sigma_color, sigma_space)\n",
        "                    best_filtered = bilateral_filtered.copy()\n",
        "\n",
        "    # Save the output with the best parameters\n",
        "    cv2.imwrite('bilateral_best.png', best_filtered)\n",
        "    print(\"Best PSNR:\", best_psnr)\n",
        "    print(\"Best Parameters (d, sigma_color, sigma_space):\", best_parameters)"
      ]
    }
  ],
  "metadata": {
    "colab": {
      "provenance": []
    },
    "kernelspec": {
      "display_name": "Python 3",
      "name": "python3"
    },
    "language_info": {
      "name": "python",
      "version": "3.11.2"
    }
  },
  "nbformat": 4,
  "nbformat_minor": 0
}
