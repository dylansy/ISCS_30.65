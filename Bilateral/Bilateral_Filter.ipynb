{
  "nbformat": 4,
  "nbformat_minor": 0,
  "metadata": {
    "colab": {
      "provenance": []
    },
    "kernelspec": {
      "name": "python3",
      "display_name": "Python 3"
    },
    "language_info": {
      "name": "python"
    }
  },
  "cells": [
    {
      "cell_type": "markdown",
      "source": [
        "Run using Google Colab for better experience."
      ],
      "metadata": {
        "id": "OG819PyoWstH"
      }
    },
    {
      "cell_type": "code",
      "source": [
        "import numpy as np\n",
        "import cv2"
      ],
      "metadata": {
        "id": "imk4QZrGXf0U"
      },
      "execution_count": 4,
      "outputs": []
    },
    {
      "cell_type": "code",
      "source": [
        "def calculate_psnr(original, denoised):\n",
        "    mse = np.mean((original - denoised) ** 2)\n",
        "    max_pixel_value = 255.0  # Assuming 8-bit images\n",
        "\n",
        "    psnr = 10 * np.log10((max_pixel_value ** 2) / mse)\n",
        "    return psnr"
      ],
      "metadata": {
        "id": "GUkzLzwXXhR-"
      },
      "execution_count": 5,
      "outputs": []
    },
    {
      "cell_type": "code",
      "execution_count": 7,
      "metadata": {
        "colab": {
          "base_uri": "https://localhost:8080/"
        },
        "id": "6GR7kNe0vluv",
        "outputId": "1ce9e27e-a4c5-4c7e-ea54-cfb8fbec0f11"
      },
      "outputs": [
        {
          "output_type": "stream",
          "name": "stdout",
          "text": [
            "Best PSNR: 34.15542819796669\n",
            "Best Parameters (d, sigma_color, sigma_space): (5, 50, 50)\n"
          ]
        }
      ],
      "source": [
        "# Load the image\n",
        "img = cv2.imread('noisy.png')\n",
        "\n",
        "# Check if the image is loaded successfully\n",
        "if img is None:\n",
        "    print('Error: Unable to load image.')\n",
        "else:\n",
        "    best_psnr = 0\n",
        "    best_parameters = None\n",
        "\n",
        "    # Iterate over different parameter values\n",
        "    for d in [5, 9, 13]:\n",
        "        for sigma_color in [50, 75, 100]:\n",
        "            for sigma_space in [50, 75, 100]:\n",
        "                # Apply bilateral filter\n",
        "                bilateral_filtered = cv2.bilateralFilter(img, d, sigma_color, sigma_space)\n",
        "\n",
        "                # Calculate PSNR\n",
        "                psnr = calculate_psnr(img, bilateral_filtered)\n",
        "\n",
        "                # Check if PSNR is better than the current best\n",
        "                if psnr > best_psnr:\n",
        "                    best_psnr = psnr\n",
        "                    best_parameters = (d, sigma_color, sigma_space)\n",
        "                    best_filtered = bilateral_filtered.copy()\n",
        "\n",
        "    # Save the output with the best parameters\n",
        "    cv2.imwrite('bilateral_best.png', best_filtered)\n",
        "    print(\"Best PSNR:\", best_psnr)\n",
        "    print(\"Best Parameters (d, sigma_color, sigma_space):\", best_parameters)"
      ]
    }
  ]
}